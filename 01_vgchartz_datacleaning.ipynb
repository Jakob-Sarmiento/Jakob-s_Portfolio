{
  "nbformat": 4,
  "nbformat_minor": 0,
  "metadata": {
    "colab": {
      "provenance": []
    },
    "kernelspec": {
      "name": "python3",
      "display_name": "Python 3"
    },
    "language_info": {
      "name": "python"
    }
  },
  "cells": [
    {
      "cell_type": "code",
      "execution_count": 2,
      "metadata": {
        "id": "aT8w2-6-oKn9",
        "colab": {
          "base_uri": "https://localhost:8080/",
          "height": 17
        },
        "outputId": "4fa82d8f-2e8c-4185-df86-766ccc638bbb"
      },
      "outputs": [
        {
          "output_type": "display_data",
          "data": {
            "text/plain": [
              "<IPython.core.display.Javascript object>"
            ],
            "application/javascript": [
              "\n",
              "    async function download(id, filename, size) {\n",
              "      if (!google.colab.kernel.accessAllowed) {\n",
              "        return;\n",
              "      }\n",
              "      const div = document.createElement('div');\n",
              "      const label = document.createElement('label');\n",
              "      label.textContent = `Downloading \"${filename}\": `;\n",
              "      div.appendChild(label);\n",
              "      const progress = document.createElement('progress');\n",
              "      progress.max = size;\n",
              "      div.appendChild(progress);\n",
              "      document.body.appendChild(div);\n",
              "\n",
              "      const buffers = [];\n",
              "      let downloaded = 0;\n",
              "\n",
              "      const channel = await google.colab.kernel.comms.open(id);\n",
              "      // Send a message to notify the kernel that we're ready.\n",
              "      channel.send({})\n",
              "\n",
              "      for await (const message of channel.messages) {\n",
              "        // Send a message to notify the kernel that we're ready.\n",
              "        channel.send({})\n",
              "        if (message.buffers) {\n",
              "          for (const buffer of message.buffers) {\n",
              "            buffers.push(buffer);\n",
              "            downloaded += buffer.byteLength;\n",
              "            progress.value = downloaded;\n",
              "          }\n",
              "        }\n",
              "      }\n",
              "      const blob = new Blob(buffers, {type: 'application/binary'});\n",
              "      const a = document.createElement('a');\n",
              "      a.href = window.URL.createObjectURL(blob);\n",
              "      a.download = filename;\n",
              "      div.appendChild(a);\n",
              "      a.click();\n",
              "      div.remove();\n",
              "    }\n",
              "  "
            ]
          },
          "metadata": {}
        },
        {
          "output_type": "display_data",
          "data": {
            "text/plain": [
              "<IPython.core.display.Javascript object>"
            ],
            "application/javascript": [
              "download(\"download_a210f86d-d428-4efe-be28-3313ed973cc4\", \"vgchartz-2024-clean.csv\", 9253241)"
            ]
          },
          "metadata": {}
        }
      ],
      "source": [
        "import pandas as pd\n",
        "from google.colab import files\n",
        "\n",
        "# load file\n",
        "df = pd.read_csv(\"vgchartz-2024.csv\")\n",
        "\n",
        "# remove all duplicate rows\n",
        "df = df.drop_duplicates()\n",
        "\n",
        "# Replace \"NaN numbers with \"0\"\n",
        "df[df.select_dtypes(include=\"number\").columns] = df.select_dtypes(include=\"number\").fillna(0)\n",
        "\n",
        "# Replace NaN in text with \"NA\"\n",
        "df[df.select_dtypes(exclude=\"number\").columns] = df.select_dtypes(exclude=\"number\").fillna(\"NA\")\n",
        "\n",
        "# Fix date columns\n",
        "df[\"release_date\"] = df[\"release_date\"].fillna(\"NA\").astype(str)\n",
        "df[\"last_update\"]  = df[\"last_update\"].fillna(\"NA\").astype(str)\n",
        "\n",
        "#  Save cleaned dataset\n",
        "df.to_csv(\"vgchartz-2024-clean.csv\", index=False)\n",
        "\n",
        "# Download\n",
        "files.download(\"vgchartz-2024-clean.csv\")"
      ]
    }
  ]
}